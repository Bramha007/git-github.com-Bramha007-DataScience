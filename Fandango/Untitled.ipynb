{
 "cells": [
  {
   "cell_type": "markdown",
   "id": "e659c852",
   "metadata": {},
   "source": [
    "# Capstone Project\n",
    "## Overview\n",
    "\n",
    "If you are planning on going out to see a movie, how well can you trust online reviews and ratings? *Especially* if the same company showing the rating *also* makes money by selling movie tickets. Do they have a bias towards rating movies higher than they should be rated?\n",
    "\n",
    "### Goal:\n",
    "\n",
    "**The goal is to determine if Fandango's ratings in 2015 had a bias towards rating movies better to sell more tickets.**\n",
    "\n",
    "---\n",
    "---\n",
    "\n",
    "\n",
    "## Part One: Understanding the Background and Data\n",
    "\n",
    "\n",
    "**Related article: [Be Suspicious Of Online Movie Ratings, Especially Fandango’s](http://fivethirtyeight.com/features/fandango-movies-ratings/)**"
   ]
  },
  {
   "cell_type": "markdown",
   "id": "3fe7baf5",
   "metadata": {},
   "source": [
    "### The Data\n",
    "\n",
    "This is the data behind the story [Be Suspicious Of Online Movie Ratings, Especially Fandango’s](http://fivethirtyeight.com/features/fandango-movies-ratings/) openly available on 538's github: https://github.com/fivethirtyeight/data. There are two csv files, one with Fandango Stars and Displayed Ratings, and the other with aggregate data for movie ratings from other sites, like Metacritic,IMDB, and Rotten Tomatoes.\n",
    "\n",
    "#### all_sites_scores.csv"
   ]
  },
  {
   "cell_type": "code",
   "execution_count": null,
   "id": "0673ee41",
   "metadata": {},
   "outputs": [],
   "source": []
  }
 ],
 "metadata": {
  "kernelspec": {
   "display_name": "Python 3 (ipykernel)",
   "language": "python",
   "name": "python3"
  },
  "language_info": {
   "codemirror_mode": {
    "name": "ipython",
    "version": 3
   },
   "file_extension": ".py",
   "mimetype": "text/x-python",
   "name": "python",
   "nbconvert_exporter": "python",
   "pygments_lexer": "ipython3",
   "version": "3.7.9"
  }
 },
 "nbformat": 4,
 "nbformat_minor": 5
}
